{
 "cells": [
  {
   "cell_type": "markdown",
   "metadata": {},
   "source": [
    "# 期中练习\n",
    "\n",
    "## 要求\n",
    "\n",
    "检验对上半学期知识的掌握，课后自行完成，可查阅各种资料。\n",
    "\n",
    "### 如何提交\n",
    "\n",
    "- 复制本文件，文件名改为`教学班号-编号.ipynb`。例如刘国强同学是2班第15号，文件名应改为`2-15.ipynb`。\n",
    "- 在复制文件中答题，每道题的答案紧接题目。\n",
    "- 答题结束后commit该文件，并提交pull request。\n",
    "\n"
   ]
  },
  {
   "cell_type": "markdown",
   "metadata": {},
   "source": [
    "2"
   ]
  },
  {
   "cell_type": "markdown",
   "metadata": {},
   "source": [
    "## 练习1\n",
    "\n",
    "为了分析自变量$x$和因变量$y$的关系，通过测量得到带误差的20个样本数据如下所示"
   ]
  },
  {
   "cell_type": "code",
   "execution_count": 27,
   "metadata": {},
   "outputs": [],
   "source": [
    "import numpy as np\n",
    "import matplotlib.pyplot as plt\n",
    "import torch"
   ]
  },
  {
   "cell_type": "code",
   "execution_count": 28,
   "metadata": {},
   "outputs": [],
   "source": [
    "X = np.array([ 0.70846042, -0.68388789,  1.03780474,  1.08334621,  0.77026309,\n",
    "        0.19722004, -0.46819526, -0.45270204,  0.02362673,  0.06549472,\n",
    "        0.08898416,  0.59424455, -0.26400365,  0.2456922 ,  0.5114847 ,\n",
    "       -0.31604016, -1.49329364,  1.24112288,  1.01993764,  1.75634392])"
   ]
  },
  {
   "cell_type": "code",
   "execution_count": 29,
   "metadata": {},
   "outputs": [],
   "source": [
    "Y = np.array([ 4.49682518,  3.5737603 ,  7.93568197,  3.58719009,  5.38341441,\n",
    "        5.47930021, -0.9861325 , -0.15686681,  2.36963799,  4.01600211,\n",
    "       -0.20329642,  3.07728831, -1.30408343,  2.84796441,  2.27915787,\n",
    "        2.62078689, -1.2855133 ,  4.39242028,  6.24385669,  6.00822241])"
   ]
  },
  {
   "cell_type": "code",
   "execution_count": 30,
   "metadata": {},
   "outputs": [
    {
     "data": {
      "text/plain": [
       "[<matplotlib.lines.Line2D at 0x1fac779c7f0>]"
      ]
     },
     "execution_count": 30,
     "metadata": {},
     "output_type": "execute_result"
    },
    {
     "data": {
      "image/png": "[encoded data removed]",
      "text/plain": [
       "<Figure size 432x288 with 1 Axes>"
      ]
     },
     "metadata": {
      "needs_background": "light"
     },
     "output_type": "display_data"
    }
   ],
   "source": [
    "plt.plot(X, Y, \".\")"
   ]
  },
  {
   "cell_type": "markdown",
   "metadata": {},
   "source": [
    "### 1.1 划分训练集和测试集\n",
    "\n",
    "将20个数据点划分为训练集和测试集，期中训练集为前15个数据点，测试集为后5个。"
   ]
  },
  {
   "cell_type": "code",
   "execution_count": 31,
   "metadata": {},
   "outputs": [
    {
     "name": "stdout",
     "output_type": "stream",
     "text": [
      "[ 0.70846042 -0.68388789  1.03780474  1.08334621  0.77026309  0.19722004\n",
      " -0.46819526 -0.45270204  0.02362673  0.06549472  0.08898416  0.59424455\n",
      " -0.26400365  0.2456922   0.5114847 ]\n",
      "[-0.31604016 -1.49329364  1.24112288  1.01993764  1.75634392]\n",
      "[ 4.49682518  3.5737603   7.93568197  3.58719009  5.38341441  5.47930021\n",
      " -0.9861325  -0.15686681  2.36963799  4.01600211 -0.20329642  3.07728831\n",
      " -1.30408343  2.84796441  2.27915787]\n",
      "[ 2.62078689 -1.2855133   4.39242028  6.24385669  6.00822241]\n"
     ]
    }
   ],
   "source": [
    "x_train=X[:15]\n",
    "print(x_train)\n",
    "x_test=X[15:]\n",
    "print(x_test)\n",
    "y_train=Y[:15]\n",
    "print(y_train)\n",
    "y_test=Y[15:]\n",
    "print(y_test)"
   ]
  },
  {
   "cell_type": "code",
   "execution_count": 32,
   "metadata": {},
   "outputs": [],
   "source": [
    "def regression(X, Y, n):\n",
    "    rows = [X**i for i in reversed(range(n))]\n",
    "    A = np.vstack(rows).T\n",
    "    theta = np.linalg.solve(A.T@A, A.T@Y)\n",
    "    return theta\n",
    "\n",
    "def predict(theta,X):\n",
    "    n = len(theta)\n",
    "    degrees = reversed(range(n))\n",
    "\n",
    "    Y = np.zeros_like(X)\n",
    "    for w, d in zip(theta, degrees):\n",
    "        Y += w * X**d\n",
    "    return Y"
   ]
  },
  {
   "cell_type": "markdown",
   "metadata": {},
   "source": [
    "### 1.2 数据建模\n",
    "\n",
    "分别用1到4次多项式函数作为模型拟合训练集中的数据，并分别计算每个模型与数据的均方差（MSE）。\n",
    "\n",
    "哪一个模型与训练数据拟合最好？"
   ]
  },
  {
   "cell_type": "code",
   "execution_count": 33,
   "metadata": {
    "scrolled": true
   },
   "outputs": [
  
    {
     "data": {
      "image/png": "[encoded data removed]",
      "text/plain": [
       "<Figure size 432x288 with 1 Axes>"
      ]
     },
     "metadata": {
      "needs_background": "light"
     },
     "output_type": "display_data"
    }
   ],
   "source": [
    "x_model = np.linspace(-3, 3, 200)\n",
    "for i in range (2,6):\n",
    "    coef1 = regression(x_train, y_train, i)\n",
    "    y_model = predict(coef1, x_model)\n",
    "    plt.plot(x_model, y_model, label=\"degree of {}\".format(i-1))\n",
    "plt.ylim(-2, 8)\n",
    "plt.legend()\n",
    "plt.xlabel(\"x\")\n",
    "plt.ylabel(\"y\")\n",
    "plt.title(\"拟合效果\")\n",
    "plt.show()"
   ]
  },
  {
   "cell_type": "code",
   "execution_count": 34,
   "metadata": {},
   "outputs": [
    {
     "name": "stdout",
     "output_type": "stream",
     "text": [
      "第1次的均方差为:3.614119980936591\n",
      "第2次的均方差为:3.4709875708912987\n",
      "第3次的均方差为:3.010246815533374\n",
      "第4次的均方差为:2.3971661654711824\n",
      "4次多项式函数与训练数据拟合最好\n"
     ]
    }
   ],
   "source": [
    "for n in range(2, 6):\n",
    "    theta = regression(x_train, y_train, n)\n",
    "    Yhat = predict(theta,x_train)\n",
    "    E = y_train - Yhat\n",
    "    S = np.dot(E, E) / 15\n",
    "    print(\"第\"+str(n-1)+\"次的均方差为:{}\".format(S))\n",
    "print(\"4次多项式函数与训练数据拟合最好\")"
   ]
  },
  {
   "cell_type": "markdown",
   "metadata": {},
   "source": [
    "### 1.3 模型测试\n",
    "计算4个模型与测试数据的均方差，哪一个模型与测试数据拟合最好？"
   ]
  },
  {
   "cell_type": "markdown",
   "metadata": {},
   "source": [
    "1.2和1.3的答案是否相同？两者的异同有什么意义？"
   ]
  },
  {
   "cell_type": "code",
   "execution_count": 35,
   "metadata": {},
   "outputs": [
    {
     "name": "stdout",
     "output_type": "stream",
     "text": [
      "第1次的均方差为:1.9373288022689124\n",
      "第2次的均方差为:6.924885916261596\n",
      "第3次的均方差为:145.53829178692075\n",
      "第4次的均方差为:2717.4997768006206\n",
      "1次多项式函数与训练数据拟合最好\n",
      "答案不相同，二者的值不同证明了拟合效果不好，出现了过拟合这种现象\n"
     ]
    }
   ],
   "source": [
    "for n in range(2, 6):#求出训练集所拟合的函数对测试集的拟合效果\n",
    "    theta = regression(x_train, y_train, n)\n",
    "    Yhat_test = predict(theta,x_test)\n",
    "    E = y_test - Yhat_test\n",
    "    S = np.dot(E, E) / 5\n",
    "    print(\"第\"+str(n-1)+\"次的均方差为:{}\".format(S))\n",
    "print(\"1次多项式函数与训练数据拟合最好\")\n",
    "print(\"答案不相同，二者的值不同证明了拟合效果不好，出现了过拟合这种现象\")"
   ]
  },
  {
   "cell_type": "markdown",
   "metadata": {},
   "source": [
    "## 练习2 人工神经网络\n",
    "\n",
    "有如下神经网络：\n",
    "- 输入$x$是2维向量，输出$y$是1维标量\n",
    "- 包含两个全连接层\n",
    "    - 第一层有5个神经元，激活函数为sigmoid\n",
    "    - 第二层有1个神经元，激活函数为relu\n",
    "- 损失函数为均方差MSE"
   ]
  },
  {
   "cell_type": "markdown",
   "metadata": {},
   "source": [
    "### 2.1 写出公式\n",
    "\n",
    "- 写出relu、sigmoid函数的公式\n",
    "- 写出整个神经网络的公式"
   ]
  },
  {
   "cell_type": "markdown",
   "metadata": {},
   "source": [
    "- 写出relu、sigmoid函数的公式\n",
    "\\begin{equation}\n",
    "ReLU(x)=\\left\\{\n",
    "\t\\begin{aligned}\n",
    "\t0 \\quad x<0\\\\\n",
    "\tx \\quad x\\geq0\\\\\n",
    "\t\\end{aligned}\n",
    "\t\\right\n",
    "\t.\n",
    "\\end{equation}\n",
    "$$\\sigma(x) = \\frac{1}{1 + e^{-x}}$$\n",
    "- 写出整个神经网络的公式\n",
    "$$y=\\text{ReLU}(W_2\\sigma(W_1x+b_1)+b_2)$$"
   ]
  },
  {
   "cell_type": "markdown",
   "metadata": {},
   "source": [
    "### 2.2 正向传播\n",
    "\n",
    "假设已知4个数据点的输入'X'，参考输出'Y'，参数'W_1'、'B_1'、'W_2'、'B_2'，。\n",
    "\n",
    "- 正向传播计算输出预测值'Y_pred'\n",
    "- 计算损失值'L'\n"
   ]
  },
  {
   "cell_type": "code",
   "execution_count": 72,
   "metadata": {},
   "outputs": [],
   "source": [
    "X = np.array([[-0.05025071,  1.12345037],\n",
    "       [-1.2771336 , -0.03387919],\n",
    "       [-0.06085093,  0.83960333],\n",
    "       [ 0.26666122, -0.15723225]])"
   ]
  },
  {
   "cell_type": "markdown",
   "metadata": {},
   "source": [
    "注意，这里输入'x'表示为行向量，即'X'中每行表示一个数据点。"
   ]
  },
  {
   "cell_type": "code",
   "execution_count": 73,
   "metadata": {},
   "outputs": [],
   "source": [
    "Y = np.array([[ 0.34942997],\n",
    "       [ 0.09796396],\n",
    "       [ 1.80617515],\n",
    "       [-0.50698293]])"
   ]
  },
  {
   "cell_type": "code",
   "execution_count": 74,
   "metadata": {},
   "outputs": [],
   "source": [
    "W1 = np.random.randn(2,5)\n",
    "b1 = np.random.randn(5)\n",
    "W2 = np.random.randn(5,1)\n",
    "b2 = np.random.randn(1,1)"
   ]
  },
  {
   "cell_type": "code",
   "execution_count": 75,
   "metadata": {},
   "outputs": [],
   "source": [
    "W1 = np.array([[-0.15772071,  2.4169384 ,  1.18656177,  0.74048303,  0.95473468],\n",
    "       [ 1.75613621,  0.44768404,  0.25003215,  0.52863169, -0.75204543]])"
   ]
  },
  {
   "cell_type": "code",
   "execution_count": 76,
   "metadata": {},
   "outputs": [],
   "source": [
    "b1 = np.array([-1.00393578, -0.19942106, -1.23939537,  1.62336519, -0.21580562])"
   ]
  },
  {
   "cell_type": "code",
   "execution_count": 77,
   "metadata": {},
   "outputs": [],
   "source": [
    "W2 = np.array([[ 0.8173788 ],\n",
    "       [-0.01165333],\n",
    "       [ 1.10703394],\n",
    "       [ 0.90372372],\n",
    "       [ 0.86510315]])"
   ]
  },
  {
   "cell_type": "code",
   "execution_count": 78,
   "metadata": {},
   "outputs": [],
   "source": [
    "b2 = np.array([[0.277288]])"
   ]
  },
  {
   "cell_type": "code",
   "execution_count": 79,
   "metadata": {},
   "outputs": [],
   "source": [
    "X = torch.tensor(X, dtype=torch.float)\n",
    "Y = torch.tensor(Y, dtype=torch.float)"
   ]
  },
  {
   "cell_type": "code",
   "execution_count": 80,
   "metadata": {},
   "outputs": [],
   "source": [
    "W1 = torch.tensor(W1, dtype=torch.float, requires_grad=True)\n",
    "W2 = torch.tensor(W2, dtype=torch.float, requires_grad=True)\n",
    "b1 = torch.tensor(b1, dtype=torch.float, requires_grad=True)\n",
    "b2 = torch.tensor(b2, dtype=torch.float, requires_grad=True)"
   ]
  },
  {
   "cell_type": "code",
   "execution_count": 81,
   "metadata": {},
   "outputs": [],
   "source": [
    "def forward(W1, W2, b1, b2, X):\n",
    "    z1 = torch.mm(X, W1) + b1\n",
    "    a1 = torch.sigmoid(z1)\n",
    "    z2 = torch.mm(a1, W2) + b2\n",
    "    a2 = torch.relu(z2)\n",
    "    return a2"
   ]
  },
  {
   "cell_type": "code",
   "execution_count": 82,
   "metadata": {},
   "outputs": [
    {
     "name": "stdout",
     "output_type": "stream",
     "text": [
      "Y_prediction:tensor([[2.1851],\n",
      "        [1.3508],\n",
      "        [2.0997],\n",
      "        [1.9834]], grad_fn=<ReluBackward0>)\n"
     ]
    }
   ],
   "source": [
    "Y_prediction = forward(W1, W2, b1, b2, X)\n",
    "print(\"Y_prediction:{}\".format(Y_prediction))"
   ]
  },
  {
   "cell_type": "code",
   "execution_count": 87,
   "metadata": {},
   "outputs": [
    {
     "name": "stdout",
     "output_type": "stream",
     "text": [
      "L:2.806889057159424\n"
     ]
    }
   ],
   "source": [
    "loss_fn = torch.nn.MSELoss(reduction='sum')\n",
    "loss = loss_fn(Y_prediction, Y)\n",
    "print(\"L:{}\".format(loss1))"
   ]
  },
  {
   "cell_type": "markdown",
   "metadata": {},
   "source": [
    "### 2.3 方向传播\n",
    "\n",
    "计算损失值'L'对参数'W_1'、'B_1'、'W_2'、'B_2'的偏导数。"
   ]
  },
  {
   "cell_type": "code",
   "execution_count": 88,
   "metadata": {},
   "outputs": [],
   "source": [
    "loss.backward()"
   ]
  },
  {
   "cell_type": "code",
   "execution_count": 89,
   "metadata": {},
   "outputs": [
    {
     "name": "stdout",
     "output_type": "stream",
     "text": [
      "W_1:tensor([[-0.4025, -0.0018,  0.0491, -0.5155, -0.1874],\n",
      "        [ 0.6442, -0.0111,  0.8137,  0.2788,  0.5732]])\n",
      "B_1:tensor([ 1.8136, -0.0273,  2.1717,  1.4389,  2.1092])\n",
      "W_2:tensor([[4.8222],\n",
      "        [5.3407],\n",
      "        [2.6462],\n",
      "        [9.7043],\n",
      "        [4.2573]])\n",
      "N_2:tensor([[11.7448]])\n"
     ]
    }
   ],
   "source": [
    "print(\"W_1:{}\".format(W1.grad))\n",
    "print(\"B_1:{}\".format(b1.grad))\n",
    "print(\"W_2:{}\".format(W2.grad))\n",
    "print(\"N_2:{}\".format(b2.grad))"
   ]
  }
 ],
 "metadata": {
  "kernelspec": {
   "display_name": "Python 3 (ipykernel)",
   "language": "python",
   "name": "python3"
  },
  "language_info": {
   "codemirror_mode": {
    "name": "ipython",
    "version": 3
   },
   "file_extension": ".py",
   "mimetype": "text/x-python",
   "name": "python",
   "nbconvert_exporter": "python",
   "pygments_lexer": "ipython3",
   "version": "3.9.7"
  }
 },
 "nbformat": 4,
 "nbformat_minor": 2
}
